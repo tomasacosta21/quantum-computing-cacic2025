{
 "cells": [
  {
   "cell_type": "markdown",
   "id": "c5d4b472",
   "metadata": {},
   "source": [
    "# Trabajo Práctico N°1: Fundamentos del Qubit\n",
    "**Introducción a la Computación Cuántica — CACIC 2025**\n",
    "\n",
    "Este notebook desarrolla las consignas del día 1, basadas en los temas:\n",
    "- Bases alternativas (X, Y, Z)\n",
    "- Notación de Dirac y productos internos\n",
    "- Matrices de Pauli\n",
    "- Estados de espín en direcciones arbitrarias\n",
    "\n",
    "Cada ejercicio se resuelve analíticamente y se verifica mediante cálculo simbólico y numérico en Python usando **NumPy** y **Qiskit**."
   ]
  },
  {
   "cell_type": "code",
   "execution_count": 2,
   "id": "01053d57",
   "metadata": {},
   "outputs": [],
   "source": [
    "import numpy as np\n",
    "from numpy import sqrt\n",
    "from qiskit.quantum_info import Statevector, Operator\n",
    "from qiskit.visualization import plot_bloch_vector\n",
    "import matplotlib.pyplot as plt\n",
    "%matplotlib inline\n"
   ]
  },
  {
   "cell_type": "markdown",
   "id": "048c0a43",
   "metadata": {},
   "source": [
    "## 1. Bases alternativas\n",
    "\n",
    "### 1.1 Base X\n",
    "Definimos:\n",
    "$$\n",
    "|+\\rangle = \\frac{1}{\\sqrt{2}}(|0\\rangle + |1\\rangle), \\quad\n",
    "|-\\rangle = \\frac{1}{\\sqrt{2}}(|0\\rangle - |1\\rangle)\n",
    "$$\n",
    "Verificaremos ortonormalidad y completitud."
   ]
  },
  {
   "cell_type": "code",
   "execution_count": 3,
   "id": "9e9b4624",
   "metadata": {},
   "outputs": [
    {
     "name": "stdout",
     "output_type": "stream",
     "text": [
      "⟨+|+⟩ = 0.9999999999999998\n",
      "⟨-|−⟩ = 0.9999999999999998\n",
      "⟨+|−⟩ = 0.0\n",
      "\n",
      "|+><+| + |-><-| =\n",
      " [[1. 0.]\n",
      " [0. 1.]]\n"
     ]
    }
   ],
   "source": [
    "# Vectores columna base Z\n",
    "ket0 = np.array([[1],[0]])\n",
    "ket1 = np.array([[0],[1]])\n",
    "\n",
    "# Estados de la base X\n",
    "ket_plus = (ket0 + ket1)/sqrt(2)\n",
    "ket_minus = (ket0 - ket1)/sqrt(2)\n",
    "\n",
    "# Productos internos\n",
    "print(\"⟨+|+⟩ =\", np.vdot(ket_plus, ket_plus))\n",
    "print(\"⟨-|−⟩ =\", np.vdot(ket_minus, ket_minus))\n",
    "print(\"⟨+|−⟩ =\", np.vdot(ket_plus, ket_minus))\n",
    "\n",
    "# Matrices de proyección\n",
    "proj_plus = ket_plus @ ket_plus.T.conj()\n",
    "proj_minus = ket_minus @ ket_minus.T.conj()\n",
    "\n",
    "# Completitud\n",
    "I = proj_plus + proj_minus\n",
    "print(\"\\n|+><+| + |-><-| =\\n\", I)\n"
   ]
  },
  {
   "cell_type": "markdown",
   "id": "8de7edaf",
   "metadata": {},
   "source": [
    "### 1.2 Base Y\n",
    "$$\n",
    "|+i\\rangle = \\frac{1}{\\sqrt{2}}(|0\\rangle + i|1\\rangle), \\quad\n",
    "|-i\\rangle = \\frac{1}{\\sqrt{2}}(|0\\rangle - i|1\\rangle)\n",
    "$$\n",
    "\n",
    "Verificamos ortonormalidad y expresamos |+⟩ en esta base.\n"
   ]
  },
  {
   "cell_type": "code",
   "execution_count": 4,
   "id": "026bda01",
   "metadata": {},
   "outputs": [
    {
     "name": "stdout",
     "output_type": "stream",
     "text": [
      "⟨+i|+i⟩ = (0.9999999999999998+0j)\n",
      "⟨-i|-i⟩ = (0.9999999999999998+0j)\n",
      "⟨+i|-i⟩ = 0j\n",
      "\n",
      "α = (0.4999999999999999-0.4999999999999999j)  β = (0.4999999999999999+0.4999999999999999j)\n",
      "Verificación: α|+i> + β|-i> = [[0.70710678+0.j]\n",
      " [0.70710678+0.j]]\n"
     ]
    }
   ],
   "source": [
    "# Base Y\n",
    "ket_plus_i = (ket0 + 1j*ket1)/sqrt(2)\n",
    "ket_minus_i = (ket0 - 1j*ket1)/sqrt(2)\n",
    "\n",
    "# Ortonormalidad\n",
    "print(\"⟨+i|+i⟩ =\", np.vdot(ket_plus_i, ket_plus_i))\n",
    "print(\"⟨-i|-i⟩ =\", np.vdot(ket_minus_i, ket_minus_i))\n",
    "print(\"⟨+i|-i⟩ =\", np.vdot(ket_plus_i, ket_minus_i))\n",
    "\n",
    "# Expresión de |+> en base Y\n",
    "alpha = np.vdot(ket_plus_i, ket_plus)\n",
    "beta = np.vdot(ket_minus_i, ket_plus)\n",
    "print(\"\\nα =\", alpha, \" β =\", beta)\n",
    "print(\"Verificación: α|+i> + β|-i> =\", alpha*ket_plus_i + beta*ket_minus_i)\n"
   ]
  },
  {
   "cell_type": "markdown",
   "id": "b614c8ff",
   "metadata": {},
   "source": [
    "## 2. Matrices de Pauli\n",
    "\n",
    "Usamos la notación:\n",
    "$$\n",
    "X = |+\\rangle⟨+| - |−⟩⟨−|, \\quad\n",
    "Y = |+i\\rangle⟨+i| - |−i\\rangle⟨−i|, \\quad\n",
    "Z = |0\\rangle⟨0| - |1\\rangle⟨1|\n",
    "$$\n",
    "y verificamos sus propiedades.\n"
   ]
  },
  {
   "cell_type": "code",
   "execution_count": 5,
   "id": "e08794d4",
   "metadata": {},
   "outputs": [
    {
     "name": "stdout",
     "output_type": "stream",
     "text": [
      "X =\n",
      " [[0. 1.]\n",
      " [1. 0.]]\n",
      "Y =\n",
      " [[0.+0.j 0.-1.j]\n",
      " [0.+1.j 0.+0.j]]\n",
      "Z =\n",
      " [[ 1  0]\n",
      " [ 0 -1]]\n",
      "\n",
      "X² =\n",
      " [[1. 0.]\n",
      " [0. 1.]]\n",
      "X† =\n",
      " [[0. 1.]\n",
      " [1. 0.]]\n",
      "Hermiticity: True\n",
      "Trace = 0.0\n",
      "\n",
      "Y² =\n",
      " [[1.+0.j 0.+0.j]\n",
      " [0.+0.j 1.+0.j]]\n",
      "Y† =\n",
      " [[0.-0.j 0.-1.j]\n",
      " [0.+1.j 0.-0.j]]\n",
      "Hermiticity: True\n",
      "Trace = 0j\n",
      "\n",
      "Z² =\n",
      " [[1 0]\n",
      " [0 1]]\n",
      "Z† =\n",
      " [[ 1  0]\n",
      " [ 0 -1]]\n",
      "Hermiticity: True\n",
      "Trace = 0\n"
     ]
    }
   ],
   "source": [
    "# Construcción explícita de las matrices de Pauli\n",
    "X = proj_plus - proj_minus\n",
    "Y = (ket_plus_i @ ket_plus_i.T.conj()) - (ket_minus_i @ ket_minus_i.T.conj())\n",
    "Z = (ket0 @ ket0.T.conj()) - (ket1 @ ket1.T.conj())\n",
    "\n",
    "print(\"X =\\n\", X)\n",
    "print(\"Y =\\n\", Y)\n",
    "print(\"Z =\\n\", Z)\n",
    "\n",
    "# Propiedades\n",
    "for name, M in zip([\"X\",\"Y\",\"Z\"], [X,Y,Z]):\n",
    "    print(f\"\\n{name}² =\\n\", M@M)\n",
    "    print(f\"{name}† =\\n\", M.T.conj())\n",
    "    print(\"Hermiticity:\", np.allclose(M, M.T.conj()))\n",
    "    print(\"Trace =\", np.trace(M))\n"
   ]
  },
  {
   "cell_type": "markdown",
   "id": "5f4188d2",
   "metadata": {},
   "source": [
    "### Anticonmutación\n",
    "Verificamos que las matrices cumplen:\n",
    "$$\n",
    "XY + YX = 0\n",
    "$$\n"
   ]
  },
  {
   "cell_type": "code",
   "execution_count": 6,
   "id": "d07fba55",
   "metadata": {},
   "outputs": [
    {
     "name": "stdout",
     "output_type": "stream",
     "text": [
      "XY + YX =\n",
      " [[0.+0.j 0.+0.j]\n",
      " [0.+0.j 0.+0.j]]\n"
     ]
    }
   ],
   "source": [
    "XY_plus_YX = X@Y + Y@X\n",
    "print(\"XY + YX =\\n\", XY_plus_YX)\n"
   ]
  },
  {
   "cell_type": "markdown",
   "id": "43a0bbba",
   "metadata": {},
   "source": [
    "## 3. Estados en dirección arbitraria\n",
    "\n",
    "$$\n",
    "|\\psi(θ,ϕ)\\rangle = \\cos\\frac{θ}{2}|0\\rangle + e^{iϕ}\\sin\\frac{θ}{2}|1\\rangle\n",
    "$$\n",
    "\n",
    "Verificamos que para diferentes ángulos obtenemos las bases X, Y y Z.\n"
   ]
  },
  {
   "cell_type": "code",
   "execution_count": 7,
   "id": "b4bb81f1",
   "metadata": {},
   "outputs": [
    {
     "name": "stdout",
     "output_type": "stream",
     "text": [
      "+x̂:\n",
      "[[0.70710678+0.j]\n",
      " [0.70710678+0.j]]\n",
      "\n",
      "+ŷ:\n",
      "[[7.07106781e-01+0.j        ]\n",
      " [4.32978028e-17+0.70710678j]]\n",
      "\n",
      "+ẑ:\n",
      "[[1.+0.j]\n",
      " [0.+0.j]]\n",
      "\n"
     ]
    }
   ],
   "source": [
    "def state(theta, phi):\n",
    "    return np.array([[np.cos(theta/2)], [np.exp(1j*phi)*np.sin(theta/2)]])\n",
    "\n",
    "# Casos específicos\n",
    "cases = [\n",
    "    (\"+x̂\", np.pi/2, 0),\n",
    "    (\"+ŷ\", np.pi/2, np.pi/2),\n",
    "    (\"+ẑ\", 0, 0)\n",
    "]\n",
    "\n",
    "for name, th, ph in cases:\n",
    "    print(f\"{name}:\")\n",
    "    print(state(th, ph))\n",
    "    print()\n"
   ]
  },
  {
   "cell_type": "markdown",
   "id": "29b6374f",
   "metadata": {},
   "source": [
    "### Verificación como autovector\n",
    "\n",
    "La matriz de Pauli en dirección arbitraria:\n",
    "$$\n",
    "σ_n = \\sinθ\\cosϕ X + \\sinθ\\sinϕ Y + \\cosθ Z\n",
    "$$\n",
    "Debe cumplir:\n",
    "$$\n",
    "σ_n |ψ(θ,ϕ)\\rangle = +|ψ(θ,ϕ)\\rangle\n",
    "$$"
   ]
  },
  {
   "cell_type": "code",
   "execution_count": 8,
   "id": "2a6babc7",
   "metadata": {},
   "outputs": [
    {
     "name": "stdout",
     "output_type": "stream",
     "text": [
      "σ_n |ψ> =\n",
      " [[0.70710678+0.j]\n",
      " [0.70710678+0.j]]\n",
      "¿Autovector con +1? True\n"
     ]
    }
   ],
   "source": [
    "def sigma_n(theta, phi):\n",
    "    return np.sin(theta)*np.cos(phi)*X + np.sin(theta)*np.sin(phi)*Y + np.cos(theta)*Z\n",
    "\n",
    "# Verificamos para dirección +x̂\n",
    "theta, phi = np.pi/2, 0\n",
    "psi = state(theta, phi)\n",
    "sigma = sigma_n(theta, phi)\n",
    "res = sigma @ psi\n",
    "print(\"σ_n |ψ> =\\n\", res)\n",
    "print(\"¿Autovector con +1?\", np.allclose(res, psi))\n"
   ]
  },
  {
   "cell_type": "markdown",
   "id": "69667b75",
   "metadata": {},
   "source": [
    "## Conclusiones\n",
    "\n",
    "- Se verificó que las bases X, Y y Z son ortonormales y completas.  \n",
    "- Las matrices de Pauli son hermíticas, unitarias y de traza nula.  \n",
    "- Los estados en direcciones arbitrarias pueden representarse mediante parámetros (θ, ϕ) y son autovectores de σₙ con autovalor +1.  \n",
    "- Todo el formalismo concuerda con las propiedades teóricas del qubit y se puede extender a representaciones en la esfera de Bloch.\n"
   ]
  }
 ],
 "metadata": {
  "kernelspec": {
   "display_name": ".venv",
   "language": "python",
   "name": "python3"
  },
  "language_info": {
   "codemirror_mode": {
    "name": "ipython",
    "version": 3
   },
   "file_extension": ".py",
   "mimetype": "text/x-python",
   "name": "python",
   "nbconvert_exporter": "python",
   "pygments_lexer": "ipython3",
   "version": "3.13.3"
  }
 },
 "nbformat": 4,
 "nbformat_minor": 5
}
