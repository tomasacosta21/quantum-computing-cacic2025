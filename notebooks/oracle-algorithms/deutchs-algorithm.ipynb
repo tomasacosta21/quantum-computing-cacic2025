{
 "cells": [
  {
   "cell_type": "markdown",
   "id": "b774813c",
   "metadata": {},
   "source": [
    "# Algoritmo de Deutsch\n",
    "\n",
    "## Descripción general\n",
    "\n",
    "El **Algoritmo de Deutsch** es un protocolo cuántico fundamental y uno de los primeros ejemplos que demuestra una \"ventaja cuántica\".\n",
    "\n",
    "Su propósito es determinar una propiedad global de una \"función oráculo\" (o caja negra) `f(x)` que toma un bit de entrada, `x` (0 o 1), y produce un bit de salida, `f(x)`. El algoritmo determina si la función es:\n",
    "\n",
    "- **Constante:** La salida es la misma para todas las entradas (ej. `f(0) = f(1)`).\n",
    "- **Balanceada:** La salida es diferente para cada entrada (ej. `f(0) ≠ f(1)`).\n",
    "\n",
    "### Recursos utilizados\n",
    "- 2 qubits (q0: qubit de entrada, q1: qubit auxiliar o \"ancilla\")\n",
    "- 1 bit clásico (para la medición final)\n",
    "- 1 consulta al oráculo cuántico (`U_f`)\n",
    "\n",
    "### Idea principal\n",
    "Mientras que un computador clásico necesitaría consultar la función *dos veces* (una para `x=0` y otra para `x=1`) para determinar si es constante o balanceada, el algoritmo de Deutsch logra resolver el problema con **una sola consulta** al oráculo cuántico."
   ]
  },
  {
   "cell_type": "code",
   "execution_count": null,
   "id": "51f61e8d",
   "metadata": {},
   "outputs": [
    {
     "name": "stdout",
     "output_type": "stream",
     "text": [
      "Conexión con IBM Quantum Platform exitoso\n"
     ]
    }
   ],
   "source": [
    "from qiskit import QuantumCircuit, transpile\n",
    "from qiskit.visualization import plot_histogram\n",
    "from qiskit_ibm_runtime import QiskitRuntimeService\n",
    "from qiskit_aer import Aer\n",
    "from qiskit_ibm_runtime import Sampler\n",
    "\n",
    "# Cargar credenciales (este paso es opcional, se puede simular)\n",
    "try:\n",
    "    service = QiskitRuntimeService()  # usa cuenta previamente guardada\n",
    "    backend = service.backend(\"ibm_brisbane\") #Utilizamos Brisbane, pero se puede utilizar ibm_torino\n",
    "    print(\"Conexión con IBM Quantum Platform exitoso\")\n",
    "except Exception:\n",
    "    backend = Aer.get_backend(\"aer_simulator\")\n",
    "    print(\"Utilizando el simulador de AER\")"
   ]
  },
  {
   "cell_type": "markdown",
   "id": "62312284",
   "metadata": {},
   "source": [
    "## Procedimiento\n",
    "\n",
    "El protocolo consta de **cuatro etapas** principales:\n",
    "\n",
    "1.  **Preparación de los qubits:**\n",
    "    * Se inicializa el primer qubit (`q0`) en `|0⟩`.\n",
    "    * Se inicializa el segundo qubit (`q1`) en `|1⟩` (aplicando una compuerta `X`).\n",
    "\n",
    "2.  **Superposición:**\n",
    "    * Se aplica una compuerta Hadamard (`H`) a **ambos** qubits para ponerlos en superposición.\n",
    "\n",
    "3.  **Oráculo:**\n",
    "    * Se aplica el oráculo cuántico `U_f`, que codifica la función `f(x)`. Existen cuatro posibles oráculos (dos constantes y dos balanceados).\n",
    "\n",
    "4.  **Medición:**\n",
    "    * Se aplica una compuerta Hadamard (`H`) *únicamente* al primer qubit (`q0`).\n",
    "    * Se mide el primer qubit (`q0`) en la base computacional."
   ]
  },
  {
   "cell_type": "code",
   "execution_count": 4,
   "id": "0c7a9f3b",
   "metadata": {},
   "outputs": [
    {
     "data": {
      "image/png": "[encoded data removed]",
      "text/plain": [
       "<Figure size 872.572x284.278 with 1 Axes>"
      ]
     },
     "execution_count": 4,
     "metadata": {},
     "output_type": "execute_result"
    }
   ],
   "source": [
    "# Definir los registros \n",
    "# 2 qubits (q0: entrada, q1: ancilla), 1 bit clásico (para la respuesta)\n",
    "qc = QuantumCircuit(2, 1)\n",
    "\n",
    "# Preparación de los qubits \n",
    "# q0 ya está en |0>\n",
    "qc.x(1)          # Inicializamos q1 en |1>\n",
    "qc.barrier()\n",
    "\n",
    "# Superposición \n",
    "qc.h(0)\n",
    "qc.h(1)\n",
    "qc.barrier()\n",
    "\n",
    "# Oráculo \n",
    "# Implementaremos uno de los oráculos.\n",
    "# Elegiremos un oráculo BALANCEADO: f(x) = x\n",
    "# Esto se implementa con una compuerta CNOT (CX)\n",
    "# donde q0 es el control y q1 es el objetivo.\n",
    "\n",
    "qc.cx(0, 1)\n",
    "\n",
    "# (Si quisiéramos probar una función CONSTANTE, f(x)=0,\n",
    "#  simplemente no pondríamos ninguna compuerta aquí).\n",
    "\n",
    "qc.barrier()\n",
    "\n",
    "# Medición \n",
    "qc.h(0)\n",
    "qc.barrier()\n",
    "qc.measure(0, 0) # Medimos el qubit 0 en el bit clásico 0\n",
    "\n",
    "# Dibujar el circuito \n",
    "qc.draw(\"mpl\")"
   ]
  },
  {
   "cell_type": "markdown",
   "id": "c542a236",
   "metadata": {},
   "source": [
    "### Explicación del circuito\n",
    "- **Qubits:** `q0` (entrada) y `q1` (auxiliar/ancilla).\n",
    "- **Preparación:** `q0` está en `|0⟩` y `q1` se pone en `|1⟩` (estado `|01⟩`).\n",
    "- **Superposición:** Las compuertas `H` crean el estado `(|0⟩ - |1⟩) / √2` en `q1` (conocido como `|-⟩`) y `(|0⟩ + |1⟩) / √2` en `q0`.\n",
    "- **Oráculo:** Hemos elegido `qc.cx(0, 1)`. Esta compuerta implementa la función **balanceada** `f(x) = x`. Es nuestra \"caja negra\".\n",
    "- **Medición:** La `H` final en `q0` transforma la información de fase (obtenida por el oráculo) de nuevo a la base computacional. La medición de `q0` nos da la respuesta."
   ]
  },
  {
   "cell_type": "code",
   "execution_count": 5,
   "id": "fd1eb7e8",
   "metadata": {},
   "outputs": [
    {
     "name": "stdout",
     "output_type": "stream",
     "text": [
      "Transpilando el circuito para el backend...\n",
      "Transpilación completada.\n",
      "Enviando trabajo al Sampler...\n",
      "Trabajo completado.\n",
      "Resultados de la medición del qubit 0:\n"
     ]
    },
    {
     "data": {
      "image/png": "[encoded data removed]",
      "text/plain": [
       "<Figure size 640x480 with 1 Axes>"
      ]
     },
     "execution_count": 5,
     "metadata": {},
     "output_type": "execute_result"
    }
   ],
   "source": [
    "# Ejecución del circuito \n",
    "\n",
    "# Transpila tu circuito lógico 'qc' para el 'backend'\n",
    "print(\"Transpilando el circuito para el backend...\")\n",
    "tqc = transpile(qc, backend=backend)\n",
    "print(\"Transpilación completada.\")\n",
    "\n",
    "# 2. Instancia el Sampler \n",
    "sampler = Sampler(mode=backend)\n",
    "print(\"Enviando trabajo al Sampler...\")\n",
    "\n",
    "# 3. Ejecuta el .run() con el circuito ya transpilado (tqc) y los shots\n",
    "job = sampler.run([tqc], shots=1024) \n",
    "result = job.result()\n",
    "print(\"Trabajo completado.\")\n",
    "\n",
    "# Obtén los resultados del formato V2\n",
    "# (Usamos .c.get_counts() porque el registro clásico se llama 'c' por defecto)\n",
    "pub_result = result[0]\n",
    "counts = pub_result.data.c.get_counts()\n",
    "\n",
    "# Visualización\n",
    "print(\"Resultados de la medición del qubit 0:\")\n",
    "plot_histogram(counts)"
   ]
  },
  {
   "cell_type": "markdown",
   "id": "b5494f50",
   "metadata": {},
   "source": [
    "### Interpretación de resultados\n",
    "- El histograma muestra el resultado de la medición del **bit 0** (que corresponde al qubit `q0`).\n",
    "- **La teoría predice:**\n",
    "    - Si la función es **Constante**, la medición de `q0` *siempre* será `0`.\n",
    "    - Si la función es **Balanceada**, la medición de `q0` *siempre* será `1`.\n",
    "- Dado que implementamos el oráculo para una función **balanceada** (`f(x)=x`), en un simulador ideal, el histograma debería mostrar el 100% de las cuentas en el estado `1`.\n",
    "- La aparición de cuentas en `0` (si se ejecuta en hardware real) se debe al ruido cuántico, pero la barra del `1` será abrumadoramente dominante."
   ]
  },
  {
   "cell_type": "markdown",
   "id": "d2f7969c",
   "metadata": {},
   "source": [
    "## Conclusión\n",
    "\n",
    "El algoritmo de Deutsch demuestra cómo el **paralelismo cuántico** y la **interferencia** permiten que una sola consulta al oráculo `U_f` nos dé información sobre *múltiples* valores de la función `f(x)` simultáneamente.\n",
    "\n",
    "- Al poner `q0` en superposición, el oráculo actúa sobre `|0⟩` y `|1⟩` al mismo tiempo.\n",
    "- La compuerta Hadamard final (`H`) hace que los caminos computacionales interfieran:\n",
    "    - Si la función es constante, interfieren constructivamente hacia el estado `|0⟩`.\n",
    "    - Si la función es balanceada, interfieren constructivamente hacia el estado `|1⟩`.\n",
    "\n",
    "Aunque es un problema simple, el algoritmo de Deutsch fue la primera prueba de que un computador cuántico podía resolver un problema más rápido (en número de consultas) que cualquier computador clásico posible."
   ]
  }
 ],
 "metadata": {
  "kernelspec": {
   "display_name": ".venv",
   "language": "python",
   "name": "python3"
  },
  "language_info": {
   "codemirror_mode": {
    "name": "ipython",
    "version": 3
   },
   "file_extension": ".py",
   "mimetype": "text/x-python",
   "name": "python",
   "nbconvert_exporter": "python",
   "pygments_lexer": "ipython3",
   "version": "3.13.3"
  }
 },
 "nbformat": 4,
 "nbformat_minor": 5
}
