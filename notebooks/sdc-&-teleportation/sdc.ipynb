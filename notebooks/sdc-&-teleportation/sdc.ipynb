{
 "cells": [
  {
   "cell_type": "markdown",
   "id": "2d3f3310",
   "metadata": {},
   "source": [
    "# Protocolo: Codificación Superdensa (Superdense Coding)\n",
    "\n",
    "## Descripción general\n",
    "La **codificación superdensa** (superdense coding) es un protocolo cuántico que permite enviar **dos bits clásicos** utilizando **un único qubit**, siempre que el emisor (Alice) y el receptor (Bob) compartan previamente un par entrelazado (un estado de Bell).\n",
    "\n",
    "### Recursos utilizados\n",
    "- 2 qubits (uno para Alice y otro para Bob)\n",
    "- 2 bits clásicos para el resultado final\n",
    "- Entrelazamiento compartido (estado de Bell |Φ⁺⟩ = (|00⟩ + |11⟩)/√2)\n",
    "\n",
    "### Idea principal\n",
    "Alice codifica dos bits clásicos aplicando puertas cuánticas a su qubit del par entrelazado. Luego, envía **su qubit** a Bob, quien realiza una medición conjunta que le permite recuperar los dos bits originales.  \n",
    "\n",
    "Así, el envío de **1 qubit + 1 par entrelazado** equivale a la transmisión de **2 bits clásicos**."
   ]
  },
  {
   "cell_type": "code",
   "execution_count": 4,
   "id": "a65de4e5",
   "metadata": {},
   "outputs": [
    {
     "name": "stdout",
     "output_type": "stream",
     "text": [
      "Conexión con IBM Quantum Platform exitoso\n"
     ]
    }
   ],
   "source": [
    "# Importaciones necesarias y conexión opcional a IBM Quantum \n",
    "from qiskit import QuantumCircuit, transpile\n",
    "from qiskit.visualization import plot_histogram\n",
    "from qiskit_ibm_runtime import QiskitRuntimeService\n",
    "from qiskit_aer import Aer\n",
    "from qiskit_ibm_runtime import Sampler\n",
    "\n",
    "# Cargar credenciales (este paso es opcional, se puede simular)\n",
    "try:\n",
    "    service = QiskitRuntimeService()  # usa cuenta previamente guardada\n",
    "    backend = service.backend(\"ibm_brisbane\") #Utilizamos Brisbane, pero se puede utilizar ibm_torini\n",
    "    print(\"Conexión con IBM Quantum Platform exitoso\")\n",
    "except Exception:\n",
    "    backend = Aer.get_backend(\"aer_simulator\")\n",
    "    print(\"Utilizando el simulador de AER\")"
   ]
  },
  {
   "cell_type": "markdown",
   "id": "1f88b400",
   "metadata": {},
   "source": [
    "## Procedimiento\n",
    "\n",
    "El protocolo consta de **tres etapas** principales:\n",
    "\n",
    "1. **Preparación del estado entrelazado (Bell pair):**  \n",
    "   - Bob crea el estado |Φ⁺⟩ = (|00⟩ + |11⟩)/√2 aplicando una puerta `H` y luego una `CX`.\n",
    "\n",
    "2. **Codificación por Alice:**  \n",
    "   - Alice aplica una combinación de puertas `I`, `X`, `Z`, o `XZ` según los dos bits clásicos que quiere transmitir.\n",
    "\n",
    "3. **Decodificación por Bob:**  \n",
    "   - Bob aplica operaciones inversas (`CX` y `H`) y mide ambos qubits para recuperar los bits originales.\n"
   ]
  },
  {
   "cell_type": "code",
   "execution_count": 6,
   "id": "74357b24",
   "metadata": {},
   "outputs": [
    {
     "data": {
      "image/png": "[encoded data removed]",
      "text/plain": [
       "<Figure size 788.961x284.278 with 1 Axes>"
      ]
     },
     "execution_count": 6,
     "metadata": {},
     "output_type": "execute_result"
    }
   ],
   "source": [
    "# Creación del circuito base\n",
    "qc = QuantumCircuit(2, 2)  # 2 qubits (Alice: q0, Bob: q1), 2 bits clásicos\n",
    "\n",
    "# 1) Creación del estado de Bell compartido\n",
    "qc.h(0)          # H sobre el qubit de Alice\n",
    "qc.cx(0, 1)      # CNOT entre Alice y Bob\n",
    "qc.barrier()\n",
    "\n",
    "# 2) Codificación de dos bits por Alice (por ejemplo: 10 -> aplica Z)\n",
    "message = \"10\"\n",
    "if message == \"00\":\n",
    "    pass\n",
    "elif message == \"01\":\n",
    "    qc.x(0)\n",
    "elif message == \"10\":\n",
    "    qc.z(0)\n",
    "elif message == \"11\":\n",
    "    qc.z(0)\n",
    "    qc.x(0)\n",
    "qc.barrier()\n",
    "\n",
    "# 3) Decodificación por Bob\n",
    "qc.cx(0, 1)\n",
    "qc.h(0)\n",
    "qc.measure([0, 1], [0, 1])\n",
    "qc.draw(\"mpl\")\n"
   ]
  },
  {
   "cell_type": "markdown",
   "id": "4a0b1bc3",
   "metadata": {},
   "source": [
    "### Explicación del circuito\n",
    "- **Qubits:**  \n",
    "  `q0` (Alice) y `q1` (Bob).  \n",
    "  Inicialmente ambos en |0⟩.\n",
    "\n",
    "- **Entrelazamiento:**  \n",
    "  La secuencia `H → CX` crea el estado de Bell |Φ⁺⟩ = (|00⟩ + |11⟩)/√2.\n",
    "\n",
    "- **Codificación:**  \n",
    "  Alice aplica una de las operaciones siguientes según los bits clásicos que desea enviar:\n",
    "\n",
    "  | Bits clásicos | Operación |\n",
    "  |:--------------:|:----------|\n",
    "  | 00 | I |\n",
    "  | 01 | X |\n",
    "  | 10 | Z |\n",
    "  | 11 | XZ (o iY) |\n",
    "\n",
    "- **Decodificación:**  \n",
    "  Bob aplica `CX` y `H` en su qubit para transformar los estados de Bell en la base computacional.  \n",
    "  Finalmente mide ambos qubits → obtiene los **dos bits originales**.\n"
   ]
  },
  {
   "cell_type": "code",
   "execution_count": 11,
   "id": "30c70adf",
   "metadata": {},
   "outputs": [
    {
     "name": "stdout",
     "output_type": "stream",
     "text": [
      "Transpilando el circuito para el backend...\n",
      "Transpilación completada.\n",
      "Enviando trabajo al Sampler...\n",
      "Trabajo completado.\n",
      "Mensaje enviado: 10\n"
     ]
    },
    {
     "data": {
      "image/png": "[encoded data removed]",
      "text/plain": [
       "<Figure size 640x480 with 1 Axes>"
      ]
     },
     "execution_count": 11,
     "metadata": {},
     "output_type": "execute_result"
    }
   ],
   "source": [
    "# Ejecución y transpilación del circuito\n",
    "print(\"Transpilando el circuito para el backend...\")\n",
    "tqc = transpile(qc, backend=backend)\n",
    "print(\"Transpilación completada.\")\n",
    "\n",
    "sampler = Sampler(mode=backend)\n",
    "print(\"Enviando trabajo al Sampler...\")\n",
    "\n",
    "job = sampler.run([tqc], shots=1024) \n",
    "result = job.result()\n",
    "print(\"Trabajo completado.\")\n",
    "\n",
    "pub_result = result[0]\n",
    "counts = pub_result.data.c.get_counts()\n",
    "\n",
    "print(f\"Mensaje enviado: {message}\")\n",
    "plot_histogram(counts)\n"
   ]
  },
  {
   "cell_type": "markdown",
   "id": "7d3ab2c5",
   "metadata": {},
   "source": [
    "### Interpretación de resultados\n",
    "- El histograma mostrará una única salida dominante, correspondiente al **mensaje que Alice codificó**.\n",
    "- Por ejemplo, si Alice codificó “10”, el resultado dominante será “10”.\n",
    "- Esto demuestra que Bob puede recuperar **dos bits de información clásica** enviando **un solo qubit cuántico** (gracias al entrelazamiento compartido).\n"
   ]
  },
  {
   "cell_type": "code",
   "execution_count": 12,
   "id": "9e27dc43",
   "metadata": {},
   "outputs": [
    {
     "name": "stdout",
     "output_type": "stream",
     "text": [
      "No se puede generar el Statevector: El backend 'ibm_brisbane' no es un simulador.\n"
     ]
    }
   ],
   "source": [
    "# (Opcional) Visualización del estado en la esfera de Bloch\n",
    "from qiskit.visualization import plot_bloch_multivector\n",
    "from qiskit.quantum_info import Statevector\n",
    "\n",
    "# Únicamente se permite la visualización si el backend es un simulador.\n",
    "# NO es el caso de esta notebook.\n",
    "if \"simulator\" in backend.name:  \n",
    "    # Estado después de la codificación\n",
    "    qc_no_measure = qc.remove_final_measurements(inplace=False)\n",
    "    state = Statevector.from_instruction(qc_no_measure)\n",
    "    display(plot_bloch_multivector(state))\n",
    "else:\n",
    "    print(f\"No se puede generar el Statevector: El backend '{backend.name}' no es un simulador.\")"
   ]
  },
  {
   "cell_type": "markdown",
   "id": "ad88d8a4",
   "metadata": {},
   "source": [
    "## Conclusión\n",
    "\n",
    "La **codificación superdensa** ilustra cómo el entrelazamiento permite optimizar la transmisión de información clásica.  \n",
    "Usando un único qubit (más un estado de Bell compartido), Alice puede enviar 2 bits clásicos a Bob.  \n",
    "Este protocolo y la **teleportación cuántica** son, en efecto, *dos caras de una misma moneda*:\n",
    "- En la teleportación, se transmite **un estado cuántico** usando **bits clásicos** y entrelazamiento.  \n",
    "- En la codificación superdensa, se transmiten **bits clásicos** usando **un qubit cuántico** y entrelazamiento.\n"
   ]
  }
 ],
 "metadata": {
  "kernelspec": {
   "display_name": ".venv",
   "language": "python",
   "name": "python3"
  },
  "language_info": {
   "codemirror_mode": {
    "name": "ipython",
    "version": 3
   },
   "file_extension": ".py",
   "mimetype": "text/x-python",
   "name": "python",
   "nbconvert_exporter": "python",
   "pygments_lexer": "ipython3",
   "version": "3.13.3"
  }
 },
 "nbformat": 4,
 "nbformat_minor": 5
}
